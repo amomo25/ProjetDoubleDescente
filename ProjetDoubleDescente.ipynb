{
 "cells": [
  {
   "cell_type": "code",
   "execution_count": 1,
   "metadata": {},
   "outputs": [],
   "source": [
    "import numpy as np"
   ]
  },
  {
   "cell_type": "code",
   "execution_count": 8,
   "metadata": {},
   "outputs": [
    {
     "name": "stdout",
     "output_type": "stream",
     "text": [
      "[ 0.00111065 -0.00061251  0.0036224   0.00328577  0.00363037 -0.00369399\n",
      " -0.00781944 -0.00497952 -0.00097052  0.00641559 -0.00033712 -0.00375778\n",
      "  0.00403918 -0.00023904 -0.00042626  0.00373379  0.00019753 -0.00171507\n",
      " -0.00368632 -0.00198724  0.00768824 -0.00089508 -0.00494225 -0.00195079\n",
      "  0.00103891 -0.00117384  0.0003628   0.00526595  0.0027331  -0.00239545\n",
      "  0.00025103 -0.00695051 -0.00089738  0.0004455  -0.00108009  0.00686224\n",
      "  0.00296581  0.00346029  0.00033005 -0.00066474 -0.0009327   0.00041954\n",
      "  0.00342776 -0.00209656 -0.00244784 -0.00328903  0.00142712 -0.00194382\n",
      "  0.00141821 -0.00060045  0.00911246 -0.00404023 -0.00487834  0.0085335\n",
      "  0.00284181  0.00416093  0.00304788 -0.00342928  0.00450317  0.00106781\n",
      "  0.00087966 -0.00380251 -0.00224001  0.00072748  0.0006531   0.00694278\n",
      "  0.00158496  0.0025477  -0.0022723   0.00020126 -0.0032023  -0.00348601\n",
      " -0.00239642  0.00264606  0.00699879  0.00176596 -0.00284461  0.0003063\n",
      "  0.00309662 -0.0043313   0.00267582  0.00087951 -0.00187854 -0.0052201\n",
      " -0.00081782  0.00226579 -0.00115102 -0.00188001 -0.00208697  0.00522441\n",
      "  0.00283214 -0.00072345 -0.00283118  0.00163966 -0.00037248 -0.00203482\n",
      " -0.00038031 -0.00103297  0.00071006  0.00607856]\n",
      "[10. 10. 10. ... 10. 10. 10.]\n"
     ]
    }
   ],
   "source": [
    "d = 100\n",
    "n = 100000\n",
    "\n",
    "sample_x = np.empty((n, d))\n",
    "mean = np.empty(d)\n",
    "norm_tab = np.empty(n)\n",
    "for i in range (0, n):\n",
    "    xi = np.random.normal(0, 1, d)\n",
    "    norm = np.sum(xi * xi) ** 0.5\n",
    "    sample_x[i] = (xi / norm) * (d ** 0.5) \n",
    "\n",
    "#On vérifie que notre data set soit uniforme\n",
    "for i in range (0, d):\n",
    "    mean[i] = np.sum(sample_x.T[i]) / n\n",
    "\n",
    "#On vérifie que notre dataset ait une norme de sqrt(d)\n",
    "for i in range (0, n):\n",
    "    norm_tab[i] = np.sum(sample_x[i] * sample_x[i]) ** 0.5\n",
    "    \n",
    "print(mean)\n",
    "print(norm_tab)"
   ]
  },
  {
   "cell_type": "code",
   "execution_count": null,
   "metadata": {},
   "outputs": [],
   "source": [
    "tau = 0.3 \n",
    "noise_level = tau * tau\n",
    "\n",
    "sample_noise = np.empty((n, 1))\n",
    "for i in range(0, n):\n",
    "    #On veut E(sample_noise) == 0 et E(sample_noise^2) == tau^2\n",
    "    sample_noise[i] = np.random.normal(0, noise_level) \n",
    "print(sample_noise)"
   ]
  },
  {
   "cell_type": "code",
   "execution_count": 9,
   "metadata": {},
   "outputs": [
    {
     "name": "stdout",
     "output_type": "stream",
     "text": [
      "0.9999999999999999\n"
     ]
    }
   ],
   "source": [
    "F1 = 1\n",
    "\n",
    "sample_params = np.empty((d, 1))\n",
    "for i in range (0, d):\n",
    "    sample_params[i] = np.random.normal(0, 1)\n",
    "    \n",
    "norm = np.sum(sample_params * sample_params) #should be equal to F1^2\n",
    "sample_params = sample_params * (F1 / (norm**0.5))\n",
    "\n",
    "#print(sample_params)\n",
    "print(np.sum(sample_params * sample_params) ** 0.5)"
   ]
  },
  {
   "cell_type": "code",
   "execution_count": 10,
   "metadata": {},
   "outputs": [
    {
     "name": "stdout",
     "output_type": "stream",
     "text": [
      "[[ 1.48576181]\n",
      " [-0.56608886]\n",
      " [ 0.40181991]\n",
      " ...\n",
      " [ 0.19390785]\n",
      " [-0.33223653]\n",
      " [-0.93391234]]\n"
     ]
    }
   ],
   "source": [
    "sample_y = sample_x.dot(sample_params) + sample_noise\n",
    "print(sample_y)"
   ]
  },
  {
   "cell_type": "code",
   "execution_count": null,
   "metadata": {},
   "outputs": [],
   "source": []
  }
 ],
 "metadata": {
  "kernelspec": {
   "display_name": "Python 3",
   "language": "python",
   "name": "python3"
  },
  "language_info": {
   "codemirror_mode": {
    "name": "ipython",
    "version": 3
   },
   "file_extension": ".py",
   "mimetype": "text/x-python",
   "name": "python",
   "nbconvert_exporter": "python",
   "pygments_lexer": "ipython3",
   "version": "3.7.3"
  }
 },
 "nbformat": 4,
 "nbformat_minor": 4
}
